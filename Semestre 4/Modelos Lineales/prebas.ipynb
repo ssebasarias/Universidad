{
 "cells": [
  {
   "cell_type": "code",
   "execution_count": 2,
   "metadata": {},
   "outputs": [
    {
     "ename": "ModuleNotFoundError",
     "evalue": "No module named 'scipy'",
     "output_type": "error",
     "traceback": [
      "\u001b[1;31m---------------------------------------------------------------------------\u001b[0m",
      "\u001b[1;31mModuleNotFoundError\u001b[0m                       Traceback (most recent call last)",
      "\u001b[1;32mc:\\Users\\Sebastian\\Documents\\Universidad\\QuintoSemestre\\Modelos Lineales\\prebas.ipynb Cell 1\u001b[0m line \u001b[0;36m1\n\u001b[1;32m----> <a href='vscode-notebook-cell:/c%3A/Users/Sebastian/Documents/Universidad/QuintoSemestre/Modelos%20Lineales/prebas.ipynb#W0sZmlsZQ%3D%3D?line=0'>1</a>\u001b[0m \u001b[39mfrom\u001b[39;00m \u001b[39mscipy\u001b[39;00m \u001b[39mimport\u001b[39;00m stats\n\u001b[0;32m      <a href='vscode-notebook-cell:/c%3A/Users/Sebastian/Documents/Universidad/QuintoSemestre/Modelos%20Lineales/prebas.ipynb#W0sZmlsZQ%3D%3D?line=2'>3</a>\u001b[0m \u001b[39m# Datos proporcionados\u001b[39;00m\n\u001b[0;32m      <a href='vscode-notebook-cell:/c%3A/Users/Sebastian/Documents/Universidad/QuintoSemestre/Modelos%20Lineales/prebas.ipynb#W0sZmlsZQ%3D%3D?line=3'>4</a>\u001b[0m media_muestral \u001b[39m=\u001b[39m \u001b[39m14\u001b[39m\n",
      "\u001b[1;31mModuleNotFoundError\u001b[0m: No module named 'scipy'"
     ]
    }
   ],
   "source": [
    "from scipy import stats\n",
    "\n",
    "# Datos proporcionados\n",
    "media_muestral = 14\n",
    "desviacion_estandar_muestral = 4.32\n",
    "media_hipotesis = 12\n",
    "tamaño_muestra = 25\n",
    "alpha = 0.05\n",
    "\n",
    "# Cálculo del estadístico de prueba (t)\n",
    "estadistico_prueba = (media_muestral - media_hipotesis) / (desviacion_estandar_muestral / (tamaño_muestra ** 0.5))\n",
    "\n",
    "# Grados de libertad\n",
    "grados_libertad = tamaño_muestra - 1\n",
    "\n",
    "# Cálculo del valor-p usando la distribución t\n",
    "valor_p = 1 - stats.t.cdf(estadistico_prueba, df=grados_libertad)\n",
    "\n",
    "# Conclusión basada en el valor de alpha\n",
    "conclusion = \"se rechaza H0\" if valor_p <= alpha else \"No Se rechaza H0\"\n",
    "\n",
    "estadistico_prueba, valor_p, conclusion"
   ]
  }
 ],
 "metadata": {
  "kernelspec": {
   "display_name": "Python 3",
   "language": "python",
   "name": "python3"
  },
  "language_info": {
   "codemirror_mode": {
    "name": "ipython",
    "version": 3
   },
   "file_extension": ".py",
   "mimetype": "text/x-python",
   "name": "python",
   "nbconvert_exporter": "python",
   "pygments_lexer": "ipython3",
   "version": "3.12.0"
  }
 },
 "nbformat": 4,
 "nbformat_minor": 2
}
