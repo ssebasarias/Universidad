{
 "cells": [
  {
   "cell_type": "code",
   "execution_count": 1,
   "metadata": {},
   "outputs": [],
   "source": [
    "import pandas as pd\n",
    "\n",
    "import pandas as pd\n",
    "# Cargar el archivo CSV en un DataFrame\n",
    "df = pd.read_csv(\"partidos_colombia_2024.csv\")"
   ]
  },
  {
   "cell_type": "code",
   "execution_count": 8,
   "metadata": {},
   "outputs": [
    {
     "name": "stdout",
     "output_type": "stream",
     "text": [
      "<class 'pandas.core.frame.DataFrame'>\n",
      "RangeIndex: 1910 entries, 0 to 1909\n",
      "Data columns (total 9 columns):\n",
      " #   Column                  Non-Null Count  Dtype         \n",
      "---  ------                  --------------  -----         \n",
      " 0   Fecha                   1910 non-null   datetime64[ns]\n",
      " 1   Equipo Local            1910 non-null   object        \n",
      " 2   Marcador                1910 non-null   object        \n",
      " 3   Equipo Visitante        1910 non-null   object        \n",
      " 4   Tarjeta Roja Local      1910 non-null   int64         \n",
      " 5   Tarjeta Roja Visitante  1910 non-null   int64         \n",
      " 6   Goles Local             1910 non-null   int64         \n",
      " 7   Goles Visitante         1910 non-null   int64         \n",
      " 8   Resultado Local         1910 non-null   object        \n",
      "dtypes: datetime64[ns](1), int64(4), object(4)\n",
      "memory usage: 134.4+ KB\n",
      "None\n",
      "       Fecha          Equipo Local Marcador        Equipo Visitante  \\\n",
      "0 2025-01-26     Alianza Petrolera    1 - 1  Independiente Medellín   \n",
      "1 2025-02-02     Deportivo Pereira    0 - 0       Alianza Petrolera   \n",
      "2 2025-02-07       Deportes Tolima    3 - 1       Alianza Petrolera   \n",
      "3 2025-02-17  Atlético Bucaramanga    0 - 0       Alianza Petrolera   \n",
      "4 2025-02-22     Alianza Petrolera    3 - 2       Atlético Nacional   \n",
      "\n",
      "   Tarjeta Roja Local  Tarjeta Roja Visitante  Goles Local  Goles Visitante  \\\n",
      "0                   0                       0            1                1   \n",
      "1                   0                       0            0                0   \n",
      "2                   0                       0            3                1   \n",
      "3                   0                       0            0                0   \n",
      "4                   0                       0            3                2   \n",
      "\n",
      "  Resultado Local  \n",
      "0          Empate  \n",
      "1          Empate  \n",
      "2        Victoria  \n",
      "3          Empate  \n",
      "4        Victoria  \n"
     ]
    }
   ],
   "source": [
    "print(df.info())\n",
    "print(df.head())"
   ]
  },
  {
   "cell_type": "markdown",
   "metadata": {},
   "source": [
    "## Haga un resumen estadístico de cada equipo, donde se vea tabla de frecuencias e indicadores estadísticos."
   ]
  },
  {
   "cell_type": "code",
   "execution_count": 11,
   "metadata": {},
   "outputs": [
    {
     "name": "stdout",
     "output_type": "stream",
     "text": [
      "       Fecha                Equipo Marcador                   Rival  \\\n",
      "0 2025-01-26     Alianza Petrolera    1 - 1  Independiente Medellín   \n",
      "1 2025-02-02     Deportivo Pereira    0 - 0       Alianza Petrolera   \n",
      "2 2025-02-07       Deportes Tolima    3 - 1       Alianza Petrolera   \n",
      "3 2025-02-17  Atlético Bucaramanga    0 - 0       Alianza Petrolera   \n",
      "4 2025-02-22     Alianza Petrolera    3 - 2       Atlético Nacional   \n",
      "\n",
      "   Tarjetas Rojas  Goles a Favor  Goles en Contra Resultado Local Condición  \\\n",
      "0               0              1                1          Empate     Local   \n",
      "1               0              0                0          Empate     Local   \n",
      "2               0              3                1        Victoria     Local   \n",
      "3               0              0                0          Empate     Local   \n",
      "4               0              3                2        Victoria     Local   \n",
      "\n",
      "  Resultado  \n",
      "0    Empate  \n",
      "1    Empate  \n",
      "2  Victoria  \n",
      "3    Empate  \n",
      "4  Victoria  \n"
     ]
    }
   ],
   "source": [
    "# ====== Crear DataFrame para el equipo local ======\n",
    "df_local = df.copy()\n",
    "df_local.rename(columns={\n",
    "    \"Equipo Local\": \"Equipo\", \n",
    "    \"Equipo Visitante\": \"Rival\", \n",
    "    \"Tarjeta Roja Local\": \"Tarjetas Rojas\",\n",
    "    \"Goles Local\": \"Goles a Favor\", \n",
    "    \"Goles Visitante\": \"Goles en Contra\"\n",
    "}, inplace=True)\n",
    "df_local[\"Condición\"] = \"Local\"\n",
    "df_local[\"Resultado\"] = df_local[\"Resultado Local\"]\n",
    "\n",
    "# Eliminar la columna \"Tarjeta Roja Visitante\" que no es relevante para Local\n",
    "df_local.drop(columns=[\"Tarjeta Roja Visitante\"], inplace=True)\n",
    "\n",
    "# ====== Crear DataFrame para el equipo visitante ======\n",
    "df_visitante = df.copy()\n",
    "df_visitante.rename(columns={\n",
    "    \"Equipo Visitante\": \"Equipo\", \n",
    "    \"Equipo Local\": \"Rival\", \n",
    "    \"Tarjeta Roja Visitante\": \"Tarjetas Rojas\",\n",
    "    \"Goles Visitante\": \"Goles a Favor\", \n",
    "    \"Goles Local\": \"Goles en Contra\"\n",
    "}, inplace=True)\n",
    "df_visitante[\"Condición\"] = \"Visitante\"\n",
    "\n",
    "# Invertir resultados para el equipo visitante\n",
    "df_visitante[\"Resultado\"] = df_visitante[\"Resultado Local\"].replace({\n",
    "    \"Victoria\": \"Derrota\",\n",
    "    \"Derrota\": \"Victoria\",\n",
    "    \"Empate\": \"Empate\"\n",
    "})\n",
    "\n",
    "# Eliminar la columna \"Tarjeta Roja Local\" que no es relevante para Visitante\n",
    "df_visitante.drop(columns=[\"Tarjeta Roja Local\"], inplace=True)\n",
    "\n",
    "# ====== Unificar ambos DataFrames ======\n",
    "df_total = pd.concat([df_local, df_visitante], ignore_index=True)\n",
    "\n",
    "# Mostrar las primeras filas\n",
    "print(df_total.head())"
   ]
  },
  {
   "cell_type": "code",
   "execution_count": null,
   "metadata": {},
   "outputs": [
    {
     "name": "stdout",
     "output_type": "stream",
     "text": [
      "Indicadores Estadísticos para 'Resultado':\n",
      "Media: 1.35\n",
      "Mediana: 1.0\n",
      "Moda: 0\n",
      "Desviación Estándar: 1.28\n",
      "Varianza: 1.63\n",
      "Mínimo: 0\n",
      "Máximo: 3\n"
     ]
    }
   ],
   "source": [
    "# Tabla de frecuencia para el resultado del equipo\n",
    "frecuencia_resultado = df_total['Resultado'].value_counts().reset_index()\n",
    "frecuencia_resultado.columns = ['Resultado', 'Frecuencia']\n",
    "\n",
    "# Tabla de frecuencia para la condición (Local/Visitante)\n",
    "frecuencia_condicion = df_total['Condición'].value_counts().reset_index()\n",
    "frecuencia_condicion.columns = ['Condición', 'Frecuencia']\n",
    "\n",
    "# Tabla de frecuencia para tarjetas rojas\n",
    "frecuencia_tarjetas = df_total['Tarjetas Rojas'].value_counts().reset_index()\n",
    "frecuencia_tarjetas.columns = ['Tarjetas Rojas', 'Frecuencia']\n",
    "\n",
    "# Tabla de frecuencia para los goles anotados\n",
    "frecuencia_goles = df_total['Goles a Favor'].value_counts().reset_index()\n",
    "frecuencia_goles.columns = ['Goles a Favor', 'Frecuencia'] \n",
    "\n",
    "# Mostrar las tablas\n",
    "print(\"Frecuencia de Resultados:\")\n",
    "print(frecuencia_resultado)\n",
    "\n",
    "print(\"\\nFrecuencia de Condición (Local/Visitante):\")\n",
    "print(frecuencia_condicion)\n",
    "\n",
    "print(\"\\nFrecuencia de Tarjetas Rojas:\")\n",
    "print(frecuencia_tarjetas)\n",
    "\n",
    "print(\"\\nFrecuencia de Goles Anotados:\")\n",
    "print(frecuencia_goles)\n",
    "\n",
    "print(\"\\nFrecuencia de Goles Anotados:\")\n",
    "print(frecuencia_goles)"
   ]
  },
  {
   "cell_type": "code",
   "execution_count": 18,
   "metadata": {},
   "outputs": [
    {
     "name": "stdout",
     "output_type": "stream",
     "text": [
      "📊 Tabla de Frecuencia:\n",
      "  Resultado  Frecuencia\n",
      "0  Victoria        1342\n",
      "1   Derrota        1342\n",
      "2    Empate        1136\n",
      "\n",
      "📈 Indicadores Estadísticos para 'Resultado':\n",
      "Media: 1.35\n",
      "Mediana: 1.0\n",
      "Moda: 0\n",
      "Desviación Estándar: 1.28\n",
      "Varianza: 1.63\n",
      "Mínimo: 0\n",
      "Máximo: 3\n"
     ]
    }
   ],
   "source": [
    "import pandas as pd\n",
    "\n",
    "# Asignar valores numéricos al resultado\n",
    "mapeo_resultado = {'Victoria': 3, 'Empate': 1, 'Derrota': 0}\n",
    "df_total['Resultado_Numerico'] = df_total['Resultado'].map(mapeo_resultado)\n",
    "\n",
    "# 📊 Tabla de Frecuencia\n",
    "frecuencia_resultado = df_total['Resultado'].value_counts().reset_index()\n",
    "frecuencia_resultado.columns = ['Resultado', 'Frecuencia']\n",
    "\n",
    "# 📈 Indicadores Estadísticos\n",
    "media = df_total['Resultado_Numerico'].mean()\n",
    "mediana = df_total['Resultado_Numerico'].median()\n",
    "moda = df_total['Resultado_Numerico'].mode()[0]  # Puede haber más de una moda\n",
    "desviacion = df_total['Resultado_Numerico'].std()\n",
    "varianza = df_total['Resultado_Numerico'].var()\n",
    "minimo = df_total['Resultado_Numerico'].min()\n",
    "maximo = df_total['Resultado_Numerico'].max()\n",
    "\n",
    "# 📋 Mostrar resultados\n",
    "print(\"📊 Tabla de Frecuencia:\")\n",
    "print(frecuencia_resultado)\n",
    "print(\"\\n📈 Indicadores Estadísticos para 'Resultado':\")\n",
    "print(f\"Media: {media:.2f}\")\n",
    "print(f\"Mediana: {mediana}\")\n",
    "print(f\"Moda: {moda}\")\n",
    "print(f\"Desviación Estándar: {desviacion:.2f}\")\n",
    "print(f\"Varianza: {varianza:.2f}\")\n",
    "print(f\"Mínimo: {minimo}\")\n",
    "print(f\"Máximo: {maximo}\")\n"
   ]
  },
  {
   "cell_type": "code",
   "execution_count": 20,
   "metadata": {},
   "outputs": [
    {
     "name": "stdout",
     "output_type": "stream",
     "text": [
      "📌 Probabilidad de Once Caldas de ser campeón: 5.88%\n",
      "🏆 Campeón del año: Independiente Medellín con 36 puntos\n",
      "🏟️ Mejor equipo de local: América de Cali con 20 puntos\n",
      "🚍 Mejor equipo de visitante: Independiente Medellín con 16 puntos\n",
      "⚽ Equipo más goleador: Atlético Nacional con 36 goles\n",
      "🛑 Equipo más goleado: Envigado con 30 goles\n"
     ]
    }
   ],
   "source": [
    "# Filtrar solo los datos del año 2025\n",
    "df_2025 = df_total[df_total['Fecha'].dt.year == 2025].copy()\n",
    "\n",
    "# Mapeo de resultados a puntos\n",
    "mapeo_resultado = {'Victoria': 3, 'Empate': 1, 'Derrota': 0}\n",
    "df_2025['Puntos'] = df_2025['Resultado'].map(mapeo_resultado)\n",
    "\n",
    "# 🏆 **1. Probabilidad de Once Caldas de ser campeón**\n",
    "puntos_totales = df_2025.groupby('Equipo')['Puntos'].sum()\n",
    "puntos_once_caldas = puntos_totales.get('Once Caldas', 0)\n",
    "probabilidad_once_caldas = puntos_once_caldas / puntos_totales.sum() * 100\n",
    "\n",
    "# 🏆 **2. Equipo con más puntos (campeón del año)**\n",
    "campeon_anual = puntos_totales.idxmax()\n",
    "puntos_campeon = puntos_totales.max()\n",
    "\n",
    "# 🏟️ **3. Mejor equipo de local**\n",
    "locales = df_2025[df_2025['Condición'] == 'Local'].groupby('Equipo')['Puntos'].sum()\n",
    "mejor_local = locales.idxmax()\n",
    "puntos_mejor_local = locales.max()\n",
    "\n",
    "# 🚍 **4. Mejor equipo de visitante**\n",
    "visitantes = df_2025[df_2025['Condición'] == 'Visitante'].groupby('Equipo')['Puntos'].sum()\n",
    "mejor_visitante = visitantes.idxmax()\n",
    "puntos_mejor_visitante = visitantes.max()\n",
    "\n",
    "# ⚽ **5. Equipo que más goles anotó y que más recibió**\n",
    "goles_favor = df_2025.groupby('Equipo')['Goles a Favor'].sum()\n",
    "goles_contra = df_2025.groupby('Equipo')['Goles en Contra'].sum()\n",
    "\n",
    "equipo_mas_goleador = goles_favor.idxmax()\n",
    "goles_maximos = goles_favor.max()\n",
    "\n",
    "equipo_mas_goleado = goles_contra.idxmax()\n",
    "goles_recibidos_maximos = goles_contra.max()\n",
    "\n",
    "# 📋 **Mostrar respuestas**\n",
    "print(\"📌 Probabilidad de Once Caldas de ser campeón:\", f\"{probabilidad_once_caldas:.2f}%\")\n",
    "print(\"🏆 Campeón del año:\", campeon_anual, f\"con {puntos_campeon} puntos\")\n",
    "print(\"🏟️ Mejor equipo de local:\", mejor_local, f\"con {puntos_mejor_local} puntos\")\n",
    "print(\"🚍 Mejor equipo de visitante:\", mejor_visitante, f\"con {puntos_mejor_visitante} puntos\")\n",
    "print(\"⚽ Equipo más goleador:\", equipo_mas_goleador, f\"con {goles_maximos} goles\")\n",
    "print(\"🛑 Equipo más goleado:\", equipo_mas_goleado, f\"con {goles_recibidos_maximos} goles\")\n"
   ]
  }
 ],
 "metadata": {
  "kernelspec": {
   "display_name": "venv",
   "language": "python",
   "name": "python3"
  },
  "language_info": {
   "codemirror_mode": {
    "name": "ipython",
    "version": 3
   },
   "file_extension": ".py",
   "mimetype": "text/x-python",
   "name": "python",
   "nbconvert_exporter": "python",
   "pygments_lexer": "ipython3",
   "version": "3.11.9"
  }
 },
 "nbformat": 4,
 "nbformat_minor": 2
}
