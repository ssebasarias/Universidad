{
 "cells": [
  {
   "cell_type": "code",
   "execution_count": 3,
   "metadata": {},
   "outputs": [],
   "source": [
    "import pandas as pd\n",
    "\n",
    "import pandas as pd\n",
    "# Cargar el archivo CSV en un DataFrame\n",
    "df = pd.read_csv(\"partidos_colombia_2024.csv\")"
   ]
  },
  {
   "cell_type": "code",
   "execution_count": 4,
   "metadata": {},
   "outputs": [
    {
     "name": "stdout",
     "output_type": "stream",
     "text": [
      "\n",
      "🔹 Valores únicos en la columna 'Marcador':\n",
      "['Alianza Petrolera' 'Deportivo Pereira' 'Deportes Tolima'\n",
      " 'Atlético Bucaramanga' 'Once Caldas' 'América de Cali'\n",
      " 'Atlético Nacional' 'Boyacá Chicó' 'Deportivo Cali' 'Rionegro Águilas'\n",
      " 'La Equidad' 'Santa Fe' 'Fortaleza CEIF' 'Independiente Medellín'\n",
      " 'Deportivo Pasto' 'Millonarios' 'Junior FC' 'Llaneros' 'Unión Magdalena'\n",
      " 'Envigado']\n"
     ]
    }
   ],
   "source": [
    "print(\"\\n🔹 Valores únicos en la columna 'Marcador':\")\n",
    "print(df[\"Marcador\"].unique())\n"
   ]
  },
  {
   "cell_type": "code",
   "execution_count": 5,
   "metadata": {},
   "outputs": [
    {
     "name": "stdout",
     "output_type": "stream",
     "text": [
      "        Fecha  Equipo Local           Marcador Equipo Visitante\n",
      "0  26-01-2025           NaN  Alianza Petrolera            1 - 1\n",
      "1  22-02-2025           NaN  Alianza Petrolera            3 - 2\n",
      "2  07-03-2025           NaN  Alianza Petrolera            1 - 0\n",
      "3  02-02-2025           NaN  Deportivo Pereira            0 - 0\n",
      "4  07-02-2025           NaN    Deportes Tolima            3 - 1\n",
      "\n",
      "🔹 Columnas del DataFrame:\n",
      "Index(['Fecha', 'Equipo Local', 'Marcador', 'Equipo Visitante'], dtype='object')\n"
     ]
    }
   ],
   "source": [
    "print(df.head())  # Mostrar las primeras filas\n",
    "print(\"\\n🔹 Columnas del DataFrame:\")\n",
    "print(df.columns)  # Mostrar los nombres de las columnas\n",
    "\n"
   ]
  }
 ],
 "metadata": {
  "kernelspec": {
   "display_name": "venv",
   "language": "python",
   "name": "python3"
  },
  "language_info": {
   "codemirror_mode": {
    "name": "ipython",
    "version": 3
   },
   "file_extension": ".py",
   "mimetype": "text/x-python",
   "name": "python",
   "nbconvert_exporter": "python",
   "pygments_lexer": "ipython3",
   "version": "3.11.9"
  }
 },
 "nbformat": 4,
 "nbformat_minor": 2
}
