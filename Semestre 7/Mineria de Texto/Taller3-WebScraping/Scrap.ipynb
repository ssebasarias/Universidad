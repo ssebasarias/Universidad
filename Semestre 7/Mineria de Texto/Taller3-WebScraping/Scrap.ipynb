{
 "cells": [
  {
   "cell_type": "code",
   "execution_count": 2,
   "metadata": {},
   "outputs": [],
   "source": [
    "from selenium import webdriver\n",
    "from selenium.webdriver.common.by import By\n",
    "from selenium.webdriver.support.ui import WebDriverWait\n",
    "from selenium.webdriver.support import expected_conditions as EC\n",
    "from webdriver_manager.chrome import ChromeDriverManager\n",
    "import pandas as pd\n",
    "import time"
   ]
  },
  {
   "cell_type": "code",
   "execution_count": 4,
   "metadata": {},
   "outputs": [
    {
     "name": "stdout",
     "output_type": "stream",
     "text": [
      "Página cargada con éxito\n"
     ]
    }
   ],
   "source": [
    "from selenium import webdriver\n",
    "from selenium.webdriver.chrome.service import Service\n",
    "from webdriver_manager.chrome import ChromeDriverManager\n",
    "import time\n",
    "\n",
    "# Configurar el WebDriver\n",
    "options = webdriver.ChromeOptions()\n",
    "options.add_argument(\"--headless\")  # Si quieres ver el navegador, elimina esta línea\n",
    "\n",
    "# Instalar y configurar el driver\n",
    "service = Service(ChromeDriverManager().install())\n",
    "driver = webdriver.Chrome(service=service, options=options)\n",
    "\n",
    "# URL de la página\n",
    "url = \"https://www.adamchoi.co.uk/overs/detailed\"\n",
    "driver.get(url)\n",
    "\n",
    "# Esperar a que cargue la página\n",
    "time.sleep(3)\n",
    "\n",
    "# Verificar si la página se abrió correctamente\n",
    "print(\"Página cargada con éxito\")\n",
    "\n",
    "# Cerrar el navegador\n",
    "driver.quit()\n"
   ]
  },
  {
   "cell_type": "code",
   "execution_count": null,
   "metadata": {},
   "outputs": [
    {
     "name": "stdout",
     "output_type": "stream",
     "text": [
      "Página cargada\n",
      "Filtro de Colombia aplicado\n",
      "Error al seleccionar Colombia: name 'time' is not defined\n"
     ]
    }
   ],
   "source": [
    "from selenium import webdriver\n",
    "from selenium.webdriver.chrome.service import Service\n",
    "from selenium.webdriver.common.by import By\n",
    "from selenium.webdriver.support.ui import WebDriverWait\n",
    "from selenium.webdriver.support import expected_conditions as EC\n",
    "from webdriver_manager.chrome import ChromeDriverManager\n",
    "\n",
    "# Configurar el WebDriver\n",
    "options = webdriver.ChromeOptions()\n",
    "options.add_argument(\"--headless\")  # Si quieres ver el navegador, elimina esta línea\n",
    "\n",
    "# Instalar y configurar el driver\n",
    "service = Service(ChromeDriverManager().install())\n",
    "driver = webdriver.Chrome(service=service, options=options)\n",
    "\n",
    "# URL de la página\n",
    "url = \"https://www.adamchoi.co.uk/overs/detailed\"\n",
    "driver.get(url)\n",
    "\n",
    "# Esperar que cargue la página\n",
    "WebDriverWait(driver, 10).until(EC.presence_of_element_located((By.TAG_NAME, \"body\")))\n",
    "print(\"Página cargada\")\n",
    "\n",
    "# Intentar seleccionar Colombia desde un select o botón\n",
    "try:\n",
    "    # Buscar el dropdown o botón de filtro\n",
    "    country_dropdown = WebDriverWait(driver, 10).until(\n",
    "        EC.presence_of_element_located((By.XPATH, \"//select[@id='country']\"))\n",
    "    )\n",
    "    country_dropdown.click()\n",
    "    \n",
    "    # Seleccionar la opción de Colombia\n",
    "    colombia_option = WebDriverWait(driver, 10).until(\n",
    "        EC.presence_of_element_located((By.XPATH, \"//option[contains(text(), 'Colombia')]\"))\n",
    "    )\n",
    "    colombia_option.click()\n",
    "    \n",
    "    print(\"Filtro de Colombia aplicado\")\n",
    "    time.sleep(2)  # Esperar a que se actualicen los datos\n",
    "except Exception as e:\n",
    "    print(f\"Error al seleccionar Colombia: {e}\")\n",
    "\n",
    "# Cerrar el navegador\n",
    "driver.quit()\n"
   ]
  },
  {
   "cell_type": "code",
   "execution_count": 8,
   "metadata": {},
   "outputs": [
    {
     "name": "stdout",
     "output_type": "stream",
     "text": [
      "        Fecha Equipo Local           Marcador Equipo Visitante\n",
      "0  26-01-2025               Alianza Petrolera            1 - 1\n",
      "1  22-02-2025               Alianza Petrolera            3 - 2\n",
      "2  07-03-2025               Alianza Petrolera            1 - 0\n",
      "3  02-02-2025               Deportivo Pereira            0 - 0\n",
      "4  07-02-2025                 Deportes Tolima            3 - 1\n"
     ]
    }
   ],
   "source": [
    "# Reabrimos el navegador\n",
    "driver = webdriver.Chrome(service=service, options=options)\n",
    "driver.get(url)\n",
    "time.sleep(3)\n",
    "\n",
    "# Aplicamos el filtro de Colombia nuevamente\n",
    "country_dropdown = WebDriverWait(driver, 10).until(\n",
    "    EC.presence_of_element_located((By.XPATH, \"//select[@id='country']\"))\n",
    ")\n",
    "country_dropdown.click()\n",
    "\n",
    "colombia_option = WebDriverWait(driver, 10).until(\n",
    "    EC.presence_of_element_located((By.XPATH, \"//option[contains(text(), 'Colombia')]\"))\n",
    ")\n",
    "colombia_option.click()\n",
    "time.sleep(3)\n",
    "\n",
    "# Extraer los datos de la tabla\n",
    "matches = driver.find_elements(By.XPATH, \"//tr\")\n",
    "\n",
    "data = []\n",
    "for match in matches:\n",
    "    cols = match.find_elements(By.TAG_NAME, \"td\")\n",
    "    \n",
    "    # Verificamos que la fila tenga al menos 4 columnas\n",
    "    if len(cols) >= 4:\n",
    "        fecha = cols[0].text.strip()\n",
    "        equipo_local = cols[1].text.strip()\n",
    "        marcador = cols[2].text.strip()\n",
    "        equipo_visitante = cols[3].text.strip()\n",
    "        data.append([fecha, equipo_local, marcador, equipo_visitante])\n",
    "\n",
    "# Cerrar el navegador\n",
    "driver.quit()\n",
    "\n",
    "# Convertir a un DataFrame\n",
    "import pandas as pd\n",
    "df = pd.DataFrame(data, columns=[\"Fecha\", \"Equipo Local\", \"Marcador\", \"Equipo Visitante\"])\n",
    "\n",
    "# Ver las primeras filas\n",
    "print(df.head())\n"
   ]
  },
  {
   "cell_type": "code",
   "execution_count": 9,
   "metadata": {},
   "outputs": [
    {
     "name": "stdout",
     "output_type": "stream",
     "text": [
      "✅ Archivo CSV guardado exitosamente.\n"
     ]
    }
   ],
   "source": [
    "# Guardar en un archivo CSV\n",
    "df.to_csv(\"partidos_colombia_2024.csv\", index=False, encoding=\"utf-8\")\n",
    "\n",
    "print(\"✅ Archivo CSV guardado exitosamente.\")\n"
   ]
  }
 ],
 "metadata": {
  "kernelspec": {
   "display_name": "venv",
   "language": "python",
   "name": "python3"
  },
  "language_info": {
   "codemirror_mode": {
    "name": "ipython",
    "version": 3
   },
   "file_extension": ".py",
   "mimetype": "text/x-python",
   "name": "python",
   "nbconvert_exporter": "python",
   "pygments_lexer": "ipython3",
   "version": "3.11.9"
  }
 },
 "nbformat": 4,
 "nbformat_minor": 2
}
