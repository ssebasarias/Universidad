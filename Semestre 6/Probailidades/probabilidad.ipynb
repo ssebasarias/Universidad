{
 "cells": [
  {
   "cell_type": "code",
   "execution_count": 1,
   "metadata": {},
   "outputs": [
    {
     "name": "stdout",
     "output_type": "stream",
     "text": [
      "{('cara', 'cara'), ('cruz', 'cruz'), ('cruz', 'cara'), ('cara', 'cruz')}\n"
     ]
    }
   ],
   "source": [
    "opciones = ['cara', 'cruz']\n",
    "\n",
    "espacio_muestral = set()\n",
    "for tiro1 in opciones:\n",
    "    for tiro2 in opciones:\n",
    "        salida = (tiro1, tiro2)\n",
    "        espacio_muestral.add(salida)\n",
    "\n",
    "print(espacio_muestral)"
   ]
  },
  {
   "cell_type": "code",
   "execution_count": 7,
   "metadata": {},
   "outputs": [
    {
     "name": "stdout",
     "output_type": "stream",
     "text": [
      "{('empata 1', 'pierde 2'), ('gana 2', 'gana 1'), ('empata 2', 'empata 2'), ('gana 2', 'gana 2'), ('pierde 2', 'pierde 2'), ('gana 1', 'pierde 1'), ('gana 2', 'empata 1'), ('gana 2', 'pierde 2'), ('pierde 1', 'empata 2'), ('empata 1', 'empata 2'), ('empata 2', 'pierde 1'), ('pierde 2', 'empata 2'), ('gana 1', 'gana 1'), ('gana 1', 'gana 2'), ('gana 2', 'empata 2'), ('pierde 1', 'pierde 1'), ('empata 1', 'pierde 1'), ('gana 1', 'empata 1'), ('pierde 2', 'pierde 1'), ('empata 2', 'gana 1'), ('empata 2', 'gana 2'), ('gana 1', 'pierde 2'), ('pierde 1', 'gana 1'), ('gana 2', 'pierde 1'), ('pierde 1', 'gana 2'), ('empata 2', 'empata 1'), ('empata 2', 'pierde 2'), ('empata 1', 'gana 1'), ('empata 1', 'gana 2'), ('pierde 1', 'empata 1'), ('pierde 2', 'gana 1'), ('gana 1', 'empata 2'), ('pierde 1', 'pierde 2'), ('pierde 2', 'gana 2'), ('pierde 2', 'empata 1'), ('empata 1', 'empata 1')}\n"
     ]
    }
   ],
   "source": [
    "opciones = ['gana 1', 'gana 2', 'pierde 1', 'pierde 2', 'empata 1', 'empata 2']\n",
    "\n",
    "espacio_muestral = set()\n",
    "for tiro1 in opciones:\n",
    "    for tiro2 in opciones:\n",
    "        salida = (tiro1, tiro2)\n",
    "        espacio_muestral.add(salida)\n",
    "\n",
    "print(espacio_muestral)"
   ]
  },
  {
   "cell_type": "code",
   "execution_count": 10,
   "metadata": {},
   "outputs": [
    {
     "name": "stdout",
     "output_type": "stream",
     "text": [
      "{('B', 'D', 'C'), ('B', 'B', 'A'), ('B', 'C', 'A'), ('B', 'B', 'D'), ('B', 'C', 'D'), ('A', 'C', 'B'), ('C', 'B', 'D'), ('A', 'A', 'B'), ('C', 'D', 'D'), ('A', 'D', 'D'), ('C', 'B', 'A'), ('C', 'D', 'A'), ('B', 'B', 'C'), ('B', 'C', 'C'), ('A', 'D', 'A'), ('C', 'B', 'C'), ('C', 'D', 'C'), ('A', 'D', 'C'), ('B', 'A', 'D'), ('C', 'C', 'D'), ('A', 'B', 'D'), ('B', 'A', 'A'), ('C', 'C', 'A'), ('A', 'B', 'A'), ('C', 'A', 'A'), ('B', 'A', 'C'), ('C', 'A', 'D'), ('D', 'B', 'B'), ('D', 'D', 'B'), ('C', 'C', 'C'), ('A', 'B', 'C'), ('C', 'A', 'C'), ('A', 'C', 'A'), ('A', 'C', 'D'), ('A', 'A', 'A'), ('A', 'A', 'D'), ('D', 'C', 'B'), ('D', 'A', 'B'), ('A', 'C', 'C'), ('A', 'A', 'C'), ('B', 'D', 'B'), ('D', 'C', 'C'), ('D', 'D', 'D'), ('B', 'C', 'B'), ('D', 'B', 'A'), ('D', 'D', 'A'), ('D', 'B', 'D'), ('B', 'B', 'B'), ('C', 'B', 'B'), ('C', 'D', 'B'), ('A', 'D', 'B'), ('D', 'B', 'C'), ('D', 'D', 'C'), ('D', 'C', 'A'), ('D', 'C', 'D'), ('D', 'A', 'A'), ('D', 'A', 'D'), ('B', 'A', 'B'), ('B', 'D', 'A'), ('C', 'C', 'B'), ('A', 'B', 'B'), ('B', 'D', 'D'), ('C', 'A', 'B'), ('D', 'A', 'C')}\n",
      "64\n"
     ]
    }
   ],
   "source": [
    "from itertools import product\n",
    "\n",
    "opciones = ['U1', '', 'C', 'D']\n",
    "espacio_muestral = set (product(opciones, repeat=3))\n",
    "print(espacio_muestral)\n",
    "print(len(espacio_muestral))"
   ]
  },
  {
   "cell_type": "code",
   "execution_count": 17,
   "metadata": {},
   "outputs": [
    {
     "name": "stdout",
     "output_type": "stream",
     "text": [
      "(1, 2)\n",
      "(1, 3)\n",
      "(1, 4)\n",
      "(2, 1)\n",
      "(2, 3)\n",
      "(2, 4)\n",
      "(3, 1)\n",
      "(3, 2)\n",
      "(3, 4)\n",
      "(4, 1)\n",
      "(4, 2)\n",
      "(4, 3)\n"
     ]
    }
   ],
   "source": [
    "from itertools import permutations\n",
    "\n",
    "equipo = range(1,5)\n",
    "espacio_muestral = list(permutations(equipo, 2))\n",
    "\n",
    "for resultado in espacio_muestral:\n",
    "    print(resultado)"
   ]
  },
  {
   "cell_type": "code",
   "execution_count": 14,
   "metadata": {},
   "outputs": [
    {
     "name": "stdout",
     "output_type": "stream",
     "text": [
      "E={1, 2, 3}\n",
      "\n"
     ]
    }
   ],
   "source": [
    "espacio_muestral = set(range(1,7))\n",
    "E = set([x for x in espacio_muestral if x<4])\n",
    "print(f\"E={E}\\n\")"
   ]
  },
  {
   "cell_type": "markdown",
   "metadata": {},
   "source": [
    "El evento debe cumplir la condicion de que los dados con dos lanzamientos, al sumar no debe dar mas de 7"
   ]
  },
  {
   "cell_type": "code",
   "execution_count": 18,
   "metadata": {},
   "outputs": [
    {
     "name": "stdout",
     "output_type": "stream",
     "text": [
      "Resultados válidos (suma <= 7):\n",
      "(1, 1)\n",
      "(1, 2)\n",
      "(1, 3)\n",
      "(1, 4)\n",
      "(1, 5)\n",
      "(1, 6)\n",
      "(2, 1)\n",
      "(2, 2)\n",
      "(2, 3)\n",
      "(2, 4)\n",
      "(2, 5)\n",
      "(3, 1)\n",
      "(3, 2)\n",
      "(3, 3)\n",
      "(3, 4)\n",
      "(4, 1)\n",
      "(4, 2)\n",
      "(4, 3)\n",
      "(5, 1)\n",
      "(5, 2)\n",
      "(6, 1)\n",
      "\n",
      "Cantidad de resultados válidos: 21\n"
     ]
    }
   ],
   "source": [
    "# Definir el espacio muestral para dos dados\n",
    "espacio_muestral = [(dado1, dado2) for dado1 in range(1, 7) for dado2 in range(1, 7)]\n",
    "\n",
    "# Filtrar los resultados que cumplen con la condición\n",
    "resultados_validos = [(dado1, dado2) for dado1, dado2 in espacio_muestral if dado1 + dado2 <= 7]\n",
    "\n",
    "# Mostrar los resultados válidos y la cantidad\n",
    "print(\"Resultados válidos (suma <= 7):\")\n",
    "for resultado in resultados_validos:\n",
    "    print(resultado)\n",
    "\n",
    "print(\"\\nCantidad de resultados válidos:\", len(resultados_validos))\n"
   ]
  }
 ],
 "metadata": {
  "kernelspec": {
   "display_name": "Python 3",
   "language": "python",
   "name": "python3"
  },
  "language_info": {
   "codemirror_mode": {
    "name": "ipython",
    "version": 3
   },
   "file_extension": ".py",
   "mimetype": "text/x-python",
   "name": "python",
   "nbconvert_exporter": "python",
   "pygments_lexer": "ipython3",
   "version": "3.12.3"
  }
 },
 "nbformat": 4,
 "nbformat_minor": 2
}
