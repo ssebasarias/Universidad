{
 "cells": [
  {
   "cell_type": "code",
   "execution_count": 4,
   "metadata": {},
   "outputs": [],
   "source": [
    "import pandas as pd\n",
    "import prince\n"
   ]
  },
  {
   "cell_type": "code",
   "execution_count": 5,
   "metadata": {},
   "outputs": [
    {
     "name": "stdout",
     "output_type": "stream",
     "text": [
      "Tabla de Contingencia:\n",
      "            Supermercado A  Supermercado B\n",
      "Producto 1              10              20\n",
      "Producto 2              30              40\n"
     ]
    }
   ],
   "source": [
    "# Crear la tabla de contingencia\n",
    "data = {\n",
    "    \"Supermercado A\": [10, 30],\n",
    "    \"Supermercado B\": [20, 40]\n",
    "}\n",
    "index = [\"Producto 1\", \"Producto 2\"]\n",
    "contingency_table = pd.DataFrame(data, index=index)\n",
    "\n",
    "# Mostrar la tabla de contingencia\n",
    "print(\"Tabla de Contingencia:\")\n",
    "print(contingency_table)\n"
   ]
  },
  {
   "cell_type": "code",
   "execution_count": 6,
   "metadata": {},
   "outputs": [
    {
     "name": "stdout",
     "output_type": "stream",
     "text": [
      "Modelo de CA ajustado correctamente.\n"
     ]
    }
   ],
   "source": [
    "# Crear el modelo de Análisis de Correspondencia Simple\n",
    "ca = prince.CA(\n",
    "    n_components=2,  # Reducir a dos dimensiones principales\n",
    "    random_state=42\n",
    ")\n",
    "\n",
    "# Ajustar el modelo a los datos\n",
    "ca = ca.fit(contingency_table)\n",
    "\n",
    "print(\"Modelo de CA ajustado correctamente.\")\n"
   ]
  },
  {
   "cell_type": "code",
   "execution_count": 7,
   "metadata": {},
   "outputs": [
    {
     "name": "stdout",
     "output_type": "stream",
     "text": [
      "Coordenadas de las filas (Productos):\n",
      "                   0\n",
      "Producto 1  0.136083\n",
      "Producto 2 -0.058321\n"
     ]
    }
   ],
   "source": [
    "# Obtener las coordenadas de las filas\n",
    "rows_coordinates = ca.row_coordinates(contingency_table)\n",
    "\n",
    "# Mostrar las coordenadas de las filas\n",
    "print(\"Coordenadas de las filas (Productos):\")\n",
    "print(rows_coordinates)\n"
   ]
  },
  {
   "cell_type": "code",
   "execution_count": 8,
   "metadata": {},
   "outputs": [
    {
     "name": "stdout",
     "output_type": "stream",
     "text": [
      "Coordenadas de las columnas (Supermercados):\n",
      "                       0\n",
      "Supermercado A -0.109109\n",
      "Supermercado B  0.072739\n"
     ]
    }
   ],
   "source": [
    "# Obtener las coordenadas de las columnas\n",
    "columns_coordinates = ca.column_coordinates(contingency_table)\n",
    "\n",
    "# Mostrar las coordenadas de las columnas\n",
    "print(\"Coordenadas de las columnas (Supermercados):\")\n",
    "print(columns_coordinates)\n"
   ]
  },
  {
   "cell_type": "code",
   "execution_count": 12,
   "metadata": {},
   "outputs": [
    {
     "data": {
      "text/html": [
       "<div>\n",
       "<style scoped>\n",
       "    .dataframe tbody tr th:only-of-type {\n",
       "        vertical-align: middle;\n",
       "    }\n",
       "\n",
       "    .dataframe tbody tr th {\n",
       "        vertical-align: top;\n",
       "    }\n",
       "\n",
       "    .dataframe thead th {\n",
       "        text-align: right;\n",
       "    }\n",
       "</style>\n",
       "<table border=\"1\" class=\"dataframe\">\n",
       "  <thead>\n",
       "    <tr style=\"text-align: right;\">\n",
       "      <th></th>\n",
       "      <th>0</th>\n",
       "    </tr>\n",
       "  </thead>\n",
       "  <tbody>\n",
       "    <tr>\n",
       "      <th>Producto 1</th>\n",
       "      <td>0.136083</td>\n",
       "    </tr>\n",
       "    <tr>\n",
       "      <th>Producto 2</th>\n",
       "      <td>-0.058321</td>\n",
       "    </tr>\n",
       "  </tbody>\n",
       "</table>\n",
       "</div>"
      ],
      "text/plain": [
       "                   0\n",
       "Producto 1  0.136083\n",
       "Producto 2 -0.058321"
      ]
     },
     "execution_count": 12,
     "metadata": {},
     "output_type": "execute_result"
    }
   ],
   "source": [
    "# Verificar las primeras filas y columnas de las coordenadas de las filas (productos)\n",
    "rows_coordinates.head()\n"
   ]
  },
  {
   "cell_type": "code",
   "execution_count": 13,
   "metadata": {},
   "outputs": [
    {
     "data": {
      "text/html": [
       "<div>\n",
       "<style scoped>\n",
       "    .dataframe tbody tr th:only-of-type {\n",
       "        vertical-align: middle;\n",
       "    }\n",
       "\n",
       "    .dataframe tbody tr th {\n",
       "        vertical-align: top;\n",
       "    }\n",
       "\n",
       "    .dataframe thead th {\n",
       "        text-align: right;\n",
       "    }\n",
       "</style>\n",
       "<table border=\"1\" class=\"dataframe\">\n",
       "  <thead>\n",
       "    <tr style=\"text-align: right;\">\n",
       "      <th></th>\n",
       "      <th>0</th>\n",
       "    </tr>\n",
       "  </thead>\n",
       "  <tbody>\n",
       "    <tr>\n",
       "      <th>Supermercado A</th>\n",
       "      <td>-0.109109</td>\n",
       "    </tr>\n",
       "    <tr>\n",
       "      <th>Supermercado B</th>\n",
       "      <td>0.072739</td>\n",
       "    </tr>\n",
       "  </tbody>\n",
       "</table>\n",
       "</div>"
      ],
      "text/plain": [
       "                       0\n",
       "Supermercado A -0.109109\n",
       "Supermercado B  0.072739"
      ]
     },
     "execution_count": 13,
     "metadata": {},
     "output_type": "execute_result"
    }
   ],
   "source": [
    "# Verificar las primeras filas y columnas de las coordenadas de las columnas (supermercados)\n",
    "columns_coordinates.head()\n"
   ]
  }
 ],
 "metadata": {
  "kernelspec": {
   "display_name": "Python 3",
   "language": "python",
   "name": "python3"
  },
  "language_info": {
   "codemirror_mode": {
    "name": "ipython",
    "version": 3
   },
   "file_extension": ".py",
   "mimetype": "text/x-python",
   "name": "python",
   "nbconvert_exporter": "python",
   "pygments_lexer": "ipython3",
   "version": "3.12.6"
  }
 },
 "nbformat": 4,
 "nbformat_minor": 2
}
